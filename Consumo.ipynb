{
 "cells": [
  {
   "cell_type": "markdown",
   "metadata": {},
   "source": [
    "### Carga y Preprocesamiento de Datos"
   ]
  },
  {
   "cell_type": "code",
   "execution_count": 2,
   "metadata": {},
   "outputs": [],
   "source": [
    "import numpy as np"
   ]
  },
  {
   "cell_type": "code",
   "execution_count": null,
   "metadata": {},
   "outputs": [
    {
     "name": "stdout",
     "output_type": "stream",
     "text": [
      "[['1' '2023-11-24' 'CUST001' ... '3' '50' '150']\n",
      " ['2' '2023-02-27' 'CUST002' ... '2' '500' '1000']\n",
      " ['3' '2023-01-13' 'CUST003' ... '1' '30' '30']\n",
      " ...\n",
      " ['998' '2023-10-29' 'CUST998' ... '4' '25' '100']\n",
      " ['999' '2023-12-05' 'CUST999' ... '3' '50' '150']\n",
      " ['1000' '2023-04-12' 'CUST1000' ... '4' '30' '120']]\n"
     ]
    }
   ],
   "source": [
    "# Carga los datos del archivo CSV utilizando NumPy\n",
    "def consumo_datos(archivo):\n",
    "    datos = np.genfromtxt(archivo, delimiter=',', skip_header=1,dtype=str)\n",
    "    return datos\n",
    "\n",
    "if __name__ == '__main__':\n",
    "    archivo = 'csv/retail_sales_dataset.csv'\n",
    "    datos = consumo_datos(archivo)\n",
    "print(datos)"
   ]
  },
  {
   "cell_type": "code",
   "execution_count": null,
   "metadata": {},
   "outputs": [
    {
     "name": "stdout",
     "output_type": "stream",
     "text": [
      "(1000, 9)\n",
      "9000\n",
      "2\n"
     ]
    }
   ],
   "source": [
    "# Imprime las dimensiones\n",
    "print(datos.shape)\n",
    "print(datos.size)\n",
    "print(datos.ndim)"
   ]
  },
  {
   "cell_type": "markdown",
   "metadata": {},
   "source": [
    "### Exploración de Datos"
   ]
  },
  {
   "cell_type": "code",
   "execution_count": null,
   "metadata": {},
   "outputs": [
    {
     "name": "stdout",
     "output_type": "stream",
     "text": [
      "['Beauty' 'Clothing' 'Electronics']\n"
     ]
    }
   ],
   "source": [
    "# Imprime la lista de atributos\n",
    "categorias = datos[:,5]\n",
    "categorias_unicas = np.unique(categorias)\n",
    "print(categorias_unicas)"
   ]
  },
  {
   "cell_type": "code",
   "execution_count": null,
   "metadata": {},
   "outputs": [
    {
     "name": "stdout",
     "output_type": "stream",
     "text": [
      "[0. 0. 0.]\n"
     ]
    }
   ],
   "source": [
    "# Calcula el total de ventas por categoría\n",
    "ventas = datos[:,8].astype(int)\n",
    "totales_ventas = np.zeros(categorias_unicas.shape)"
   ]
  },
  {
   "cell_type": "code",
   "execution_count": null,
   "metadata": {},
   "outputs": [],
   "source": [
    "# Calcula el total de ventas por categoría\n",
    "for i, categoria in enumerate(categorias_unicas):\n",
    "    totales_ventas[i] = np.sum(ventas[categorias == categoria])"
   ]
  },
  {
   "cell_type": "code",
   "execution_count": null,
   "metadata": {},
   "outputs": [
    {
     "name": "stdout",
     "output_type": "stream",
     "text": [
      "Total de ventas para categoría Beauty: 143515.0\n",
      "Total de ventas para categoría Clothing: 155580.0\n",
      "Total de ventas para categoría Electronics: 156905.0\n"
     ]
    }
   ],
   "source": [
    "# Imprime el total de ventas por categoría\n",
    "for categoria, total in zip(categorias_unicas, totales_ventas):\n",
    "    print(f'Total de ventas para categoría {categoria}: {total}')"
   ]
  },
  {
   "cell_type": "code",
   "execution_count": null,
   "metadata": {},
   "outputs": [],
   "source": [
    "# Calcula el promedio de ventas diarias para cada categoría\n",
    "fechas = datos[:,1]\n",
    "ventas_por_categoria_fecha = {}\n",
    "for categoria, fecha, venta in zip(categorias, fechas, ventas):\n",
    "    if (categoria, fecha) not in ventas_por_categoria_fecha:\n",
    "        ventas_por_categoria_fecha[(categoria, fecha)] = 0\n",
    "    ventas_por_categoria_fecha[(categoria, fecha)] += venta"
   ]
  },
  {
   "cell_type": "code",
   "execution_count": null,
   "metadata": {},
   "outputs": [],
   "source": [
    "# Calcula el promedio de ventas diarias para cada categoría\n",
    "promedios_ventas = {}\n",
    "for (categoria, fecha), total_venta in ventas_por_categoria_fecha.items():\n",
    "    if categoria not in promedios_ventas:\n",
    "        promedios_ventas[categoria] = {'total': 0, 'count': 0}\n",
    "    promedios_ventas[categoria]['total'] += total_venta\n",
    "    promedios_ventas[categoria]['count'] += 1"
   ]
  },
  {
   "cell_type": "code",
   "execution_count": null,
   "metadata": {},
   "outputs": [
    {
     "name": "stdout",
     "output_type": "stream",
     "text": [
      "Promedio de ventas diarias para categoría Beauty: 703.50\n",
      "Promedio de ventas diarias para categoría Clothing: 670.60\n",
      "Promedio de ventas diarias para categoría Electronics: 716.46\n"
     ]
    }
   ],
   "source": [
    "# Imprime el promedio de ventas diarias para cada categoría\n",
    "for categoria, datos in promedios_ventas.items():\n",
    "    promedio = datos['total'] / datos['count']  # Calcular promedio\n",
    "    print(f'Promedio de ventas diarias para categoría {categoria}: {promedio:.2f}')"
   ]
  },
  {
   "cell_type": "code",
   "execution_count": null,
   "metadata": {},
   "outputs": [],
   "source": [
    "# Calcula el total de ventas por categoría\n",
    "ventas_totales_por_categoria = {}\n",
    "for categoria in categorias_unicas:\n",
    "    ventas_totales_por_categoria[categoria] = np.sum(ventas[categorias == categoria])"
   ]
  },
  {
   "cell_type": "code",
   "execution_count": null,
   "metadata": {},
   "outputs": [
    {
     "name": "stdout",
     "output_type": "stream",
     "text": [
      "Categoría con mayores ventas: Electronics con un total de 156905\n",
      "Categoría con menores ventas: Beauty con un total de 143515\n"
     ]
    }
   ],
   "source": [
    "# Calcula el total de ventas por categoría\n",
    "categoria_mayor_venta = max(ventas_totales_por_categoria, key=ventas_totales_por_categoria.get)\n",
    "categoria_menor_venta = min(ventas_totales_por_categoria, key=ventas_totales_por_categoria.get)\n",
    "print(f'Categoría con mayores ventas: {categoria_mayor_venta} con un total de {ventas_totales_por_categoria[categoria_mayor_venta]}')\n",
    "print(f'Categoría con menores ventas: {categoria_menor_venta} con un total de {ventas_totales_por_categoria[categoria_menor_venta]}')"
   ]
  },
  {
   "cell_type": "markdown",
   "metadata": {},
   "source": [
    "### Manipulación de Datos"
   ]
  },
  {
   "cell_type": "code",
   "execution_count": null,
   "metadata": {},
   "outputs": [
    {
     "name": "stdout",
     "output_type": "stream",
     "text": [
      "Ventas para la categoría Electronics:\n",
      "[['3' '2023-01-13' 'CUST003' ... '1' '30' '30']\n",
      " ['8' '2023-02-22' 'CUST008' ... '4' '25' '100']\n",
      " ['9' '2023-12-13' 'CUST009' ... '2' '300' '600']\n",
      " ...\n",
      " ['993' '2023-02-06' 'CUST993' ... '3' '50' '150']\n",
      " ['999' '2023-12-05' 'CUST999' ... '3' '50' '150']\n",
      " ['1000' '2023-04-12' 'CUST1000' ... '4' '30' '120']]\n"
     ]
    }
   ],
   "source": [
    "# Crea un arreglo con las ventas para la categoría especificada\n",
    "categoria_especifica = \"Electronics\"\n",
    "ventas_categoria_especifica = datos[datos[:,5] == categoria_especifica]\n",
    "print(f'Ventas para la categoría {categoria_especifica}:')\n",
    "print(ventas_categoria_especifica)"
   ]
  }
 ],
 "metadata": {
  "kernelspec": {
   "display_name": "mitic",
   "language": "python",
   "name": "python3"
  },
  "language_info": {
   "codemirror_mode": {
    "name": "ipython",
    "version": 3
   },
   "file_extension": ".py",
   "mimetype": "text/x-python",
   "name": "python",
   "nbconvert_exporter": "python",
   "pygments_lexer": "ipython3",
   "version": "3.12.7"
  }
 },
 "nbformat": 4,
 "nbformat_minor": 2
}
